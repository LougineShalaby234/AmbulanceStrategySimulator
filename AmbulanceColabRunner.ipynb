{
  "nbformat": 4,
  "nbformat_minor": 0,
  "metadata": {
    "colab": {
      "provenance": [],
      "authorship_tag": "ABX9TyPdgPwLjdO6Oun+9BsISzi5",
      "include_colab_link": true
    },
    "kernelspec": {
      "name": "python3",
      "display_name": "Python 3"
    },
    "language_info": {
      "name": "python"
    }
  },
  "cells": [
    {
      "cell_type": "markdown",
      "metadata": {
        "id": "view-in-github",
        "colab_type": "text"
      },
      "source": [
        "<a href=\"https://colab.research.google.com/github/LougineShalaby234/AmbulanceStrategySimulator/blob/main/AmbulanceColabRunner.ipynb\" target=\"_parent\"><img src=\"https://colab.research.google.com/assets/colab-badge.svg\" alt=\"Open In Colab\"/></a>"
      ]
    },
    {
      "cell_type": "markdown",
      "source": [
        "## **🚑 Ambulance Simulator: Interactive Environment Runner**\n"
      ],
      "metadata": {
        "id": "vC_VKc8HZg0M"
      }
    },
    {
      "cell_type": "markdown",
      "source": [
        "## **1.Install dependencies**"
      ],
      "metadata": {
        "id": "krHqanTtY9HE"
      }
    },
    {
      "cell_type": "code",
      "execution_count": null,
      "metadata": {
        "id": "wBj74ZN8Xul6"
      },
      "outputs": [],
      "source": [
        "!pip install folium requests pandas matplotlib seaborn python-dotenv polyline here-polyline-converter\n"
      ]
    },
    {
      "cell_type": "markdown",
      "source": [
        "## **2.Clone the repo**"
      ],
      "metadata": {
        "id": "Ka5UQPVyZP42"
      }
    },
    {
      "cell_type": "code",
      "source": [
        "!git clone https://github.com/LougineShalaby234/AmbulanceStrategySimulator.git\n",
        "%cd AmbulanceStrategySimulator"
      ],
      "metadata": {
        "id": "YzBQpzWHXxHx"
      },
      "execution_count": null,
      "outputs": []
    },
    {
      "cell_type": "markdown",
      "source": [
        "## **3.Run the simulator**"
      ],
      "metadata": {
        "id": "VdBZnGb9ZWqr"
      }
    },
    {
      "cell_type": "code",
      "source": [
        "!python simulator.py"
      ],
      "metadata": {
        "id": "nAzSIcb6ZLoo"
      },
      "execution_count": null,
      "outputs": []
    }
  ]
}